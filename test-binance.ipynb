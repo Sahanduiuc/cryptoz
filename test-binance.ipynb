{
 "cells": [
  {
   "cell_type": "code",
   "execution_count": 3,
   "metadata": {},
   "outputs": [],
   "source": [
    "from importlib import reload\n",
    "import matplotlib.pyplot as plt\n",
    "import pandas as pd\n",
    "import numpy as np\n",
    "import re\n",
    "\n",
    "from binance.client import Client\n",
    "from binance import enums"
   ]
  },
  {
   "cell_type": "code",
   "execution_count": 4,
   "metadata": {},
   "outputs": [],
   "source": [
    "# Your API key and secret\n",
    "API_KEY = \"\"\n",
    "API_SECRET = \"\""
   ]
  },
  {
   "cell_type": "code",
   "execution_count": 5,
   "metadata": {},
   "outputs": [],
   "source": [
    "client = Client(API_KEY, API_SECRET)"
   ]
  },
  {
   "cell_type": "code",
   "execution_count": 6,
   "metadata": {},
   "outputs": [],
   "source": [
    "interval = enums.KLINE_INTERVAL_1HOUR"
   ]
  },
  {
   "cell_type": "code",
   "execution_count": 7,
   "metadata": {},
   "outputs": [
    {
     "name": "stderr",
     "output_type": "stream",
     "text": [
      "/Users/olegpolakow/miniconda3/lib/python3.7/site-packages/tqdm/autonotebook/__init__.py:14: TqdmExperimentalWarning: Using `tqdm.autonotebook.tqdm` in notebook mode. Use `tqdm.tqdm` instead to force console mode (e.g. in jupyter console)\n",
      "  \" (e.g. in jupyter console)\", TqdmExperimentalWarning)\n"
     ]
    }
   ],
   "source": [
    "import importlib\n",
    "import cryptoz.binance\n",
    "importlib.reload(cryptoz.binance)\n",
    "\n",
    "from cryptoz.binance import BinanceHelper"
   ]
  },
  {
   "cell_type": "code",
   "execution_count": 8,
   "metadata": {},
   "outputs": [],
   "source": [
    "binance = BinanceHelper(client)"
   ]
  },
  {
   "cell_type": "markdown",
   "metadata": {},
   "source": [
    "## Symbols and pairs"
   ]
  },
  {
   "cell_type": "code",
   "execution_count": 10,
   "metadata": {},
   "outputs": [
    {
     "data": {
      "text/plain": [
       "('BTC', 'USDT')"
      ]
     },
     "execution_count": 10,
     "metadata": {},
     "output_type": "execute_result"
    }
   ],
   "source": [
    "binance.symbol_into_pair(\"BTCUSDT\")"
   ]
  },
  {
   "cell_type": "code",
   "execution_count": 11,
   "metadata": {},
   "outputs": [
    {
     "data": {
      "text/plain": [
       "'BTCUSDT'"
      ]
     },
     "execution_count": 11,
     "metadata": {},
     "output_type": "execute_result"
    }
   ],
   "source": [
    "binance.pair_into_symbol((\"BTC\", \"USDT\"))"
   ]
  },
  {
   "cell_type": "code",
   "execution_count": 12,
   "metadata": {},
   "outputs": [
    {
     "name": "stdout",
     "output_type": "stream",
     "text": [
      "[('VEN', 'ETH'), ('WAVES', 'BTC'), ('AMB', 'BNB'), ('IOTA', 'USDT'), ('PIVX', 'BNB')]\n",
      "491\n"
     ]
    }
   ],
   "source": [
    "received_pairs = binance.get_pairs()\n",
    "\n",
    "print(received_pairs[:5])\n",
    "print(len(received_pairs))"
   ]
  },
  {
   "cell_type": "markdown",
   "metadata": {},
   "source": [
    "## Ticker"
   ]
  },
  {
   "cell_type": "code",
   "execution_count": 11,
   "metadata": {},
   "outputs": [
    {
     "name": "stdout",
     "output_type": "stream",
     "text": [
      "[(('ETH', 'BTC'), 0.018313), (('LTC', 'BTC'), 0.007228), (('BNB', 'BTC'), 0.0026625), (('NEO', 'BTC'), 0.000933), (('QTUM', 'ETH'), 0.013403)]\n",
      "491\n"
     ]
    }
   ],
   "source": [
    "received_ticker = binance.get_ticker()\n",
    "\n",
    "print(list(received_ticker.items())[:5])\n",
    "print(len(received_ticker))"
   ]
  },
  {
   "cell_type": "code",
   "execution_count": 118,
   "metadata": {},
   "outputs": [
    {
     "data": {
      "text/plain": [
       "0.000933"
      ]
     },
     "execution_count": 118,
     "metadata": {},
     "output_type": "execute_result"
    }
   ],
   "source": [
    "binance.calculate_pair_price(('NEO', 'BTC'), received_ticker)"
   ]
  },
  {
   "cell_type": "code",
   "execution_count": 124,
   "metadata": {},
   "outputs": [
    {
     "name": "stdout",
     "output_type": "stream",
     "text": [
      "GAS/USDT = (GAS/BTC) * (BTC/USDT)\n"
     ]
    },
    {
     "data": {
      "text/plain": [
       "1.5846920599999998"
      ]
     },
     "execution_count": 124,
     "metadata": {},
     "output_type": "execute_result"
    }
   ],
   "source": [
    "binance.calculate_pair_price(('GAS', 'USDT'), received_ticker)"
   ]
  },
  {
   "cell_type": "code",
   "execution_count": 125,
   "metadata": {},
   "outputs": [
    {
     "name": "stdout",
     "output_type": "stream",
     "text": [
      "GAS/LSK = (GAS/BTC) / (LSK/BTC)\n"
     ]
    },
    {
     "data": {
      "text/plain": [
       "1.3271344040574808"
      ]
     },
     "execution_count": 125,
     "metadata": {},
     "output_type": "execute_result"
    }
   ],
   "source": [
    "binance.calculate_pair_price(('GAS', 'LSK'), received_ticker)"
   ]
  },
  {
   "cell_type": "code",
   "execution_count": 126,
   "metadata": {},
   "outputs": [
    {
     "name": "stdout",
     "output_type": "stream",
     "text": [
      "USDT/BTC = 1 / (BTC/USDT)\n"
     ]
    },
    {
     "data": {
      "text/plain": [
       "9.907287602614731e-05"
      ]
     },
     "execution_count": 126,
     "metadata": {},
     "output_type": "execute_result"
    }
   ],
   "source": [
    "binance.calculate_pair_price(('USDT', 'BTC'), received_ticker)"
   ]
  },
  {
   "cell_type": "markdown",
   "metadata": {},
   "source": [
    "## Balances"
   ]
  },
  {
   "cell_type": "code",
   "execution_count": 11,
   "metadata": {},
   "outputs": [],
   "source": [
    "#binance.get_active_balances()"
   ]
  },
  {
   "cell_type": "code",
   "execution_count": 12,
   "metadata": {},
   "outputs": [],
   "source": [
    "#binance.get_active_balances_in('USDT')"
   ]
  },
  {
   "cell_type": "markdown",
   "metadata": {},
   "source": [
    "## OHLCV"
   ]
  },
  {
   "cell_type": "code",
   "execution_count": 238,
   "metadata": {},
   "outputs": [
    {
     "data": {
      "text/html": [
       "<div>\n",
       "<style scoped>\n",
       "    .dataframe tbody tr th:only-of-type {\n",
       "        vertical-align: middle;\n",
       "    }\n",
       "\n",
       "    .dataframe tbody tr th {\n",
       "        vertical-align: top;\n",
       "    }\n",
       "\n",
       "    .dataframe thead th {\n",
       "        text-align: right;\n",
       "    }\n",
       "</style>\n",
       "<table border=\"1\" class=\"dataframe\">\n",
       "  <thead>\n",
       "    <tr style=\"text-align: right;\">\n",
       "      <th></th>\n",
       "      <th>O</th>\n",
       "      <th>H</th>\n",
       "      <th>L</th>\n",
       "      <th>C</th>\n",
       "      <th>V</th>\n",
       "      <th>M</th>\n",
       "    </tr>\n",
       "    <tr>\n",
       "      <th>date</th>\n",
       "      <th></th>\n",
       "      <th></th>\n",
       "      <th></th>\n",
       "      <th></th>\n",
       "      <th></th>\n",
       "      <th></th>\n",
       "    </tr>\n",
       "  </thead>\n",
       "  <tbody>\n",
       "    <tr>\n",
       "      <th>2019-08-01 18:00:00</th>\n",
       "      <td>10085.44</td>\n",
       "      <td>10192.63</td>\n",
       "      <td>10073.53</td>\n",
       "      <td>10170.36</td>\n",
       "      <td>2.482955e+07</td>\n",
       "      <td>10145.506667</td>\n",
       "    </tr>\n",
       "    <tr>\n",
       "      <th>2019-08-01 19:00:00</th>\n",
       "      <td>10170.36</td>\n",
       "      <td>10341.78</td>\n",
       "      <td>10168.55</td>\n",
       "      <td>10283.73</td>\n",
       "      <td>4.047226e+07</td>\n",
       "      <td>10264.686667</td>\n",
       "    </tr>\n",
       "    <tr>\n",
       "      <th>2019-08-01 20:00:00</th>\n",
       "      <td>10283.71</td>\n",
       "      <td>10467.86</td>\n",
       "      <td>10270.30</td>\n",
       "      <td>10387.00</td>\n",
       "      <td>5.350883e+07</td>\n",
       "      <td>10375.053333</td>\n",
       "    </tr>\n",
       "    <tr>\n",
       "      <th>2019-08-01 21:00:00</th>\n",
       "      <td>10387.01</td>\n",
       "      <td>10424.58</td>\n",
       "      <td>10338.00</td>\n",
       "      <td>10406.98</td>\n",
       "      <td>1.796263e+07</td>\n",
       "      <td>10389.853333</td>\n",
       "    </tr>\n",
       "    <tr>\n",
       "      <th>2019-08-01 22:00:00</th>\n",
       "      <td>10406.48</td>\n",
       "      <td>10430.82</td>\n",
       "      <td>10345.12</td>\n",
       "      <td>10374.88</td>\n",
       "      <td>1.526019e+07</td>\n",
       "      <td>10383.606667</td>\n",
       "    </tr>\n",
       "  </tbody>\n",
       "</table>\n",
       "</div>"
      ],
      "text/plain": [
       "                            O         H         L         C             V  \\\n",
       "date                                                                        \n",
       "2019-08-01 18:00:00  10085.44  10192.63  10073.53  10170.36  2.482955e+07   \n",
       "2019-08-01 19:00:00  10170.36  10341.78  10168.55  10283.73  4.047226e+07   \n",
       "2019-08-01 20:00:00  10283.71  10467.86  10270.30  10387.00  5.350883e+07   \n",
       "2019-08-01 21:00:00  10387.01  10424.58  10338.00  10406.98  1.796263e+07   \n",
       "2019-08-01 22:00:00  10406.48  10430.82  10345.12  10374.88  1.526019e+07   \n",
       "\n",
       "                                M  \n",
       "date                               \n",
       "2019-08-01 18:00:00  10145.506667  \n",
       "2019-08-01 19:00:00  10264.686667  \n",
       "2019-08-01 20:00:00  10375.053333  \n",
       "2019-08-01 21:00:00  10389.853333  \n",
       "2019-08-01 22:00:00  10383.606667  "
      ]
     },
     "execution_count": 238,
     "metadata": {},
     "output_type": "execute_result"
    }
   ],
   "source": [
    "binance.get_pair_ohlcv(('BTC', 'USDT'), interval).head()"
   ]
  },
  {
   "cell_type": "code",
   "execution_count": 245,
   "metadata": {},
   "outputs": [
    {
     "name": "stdout",
     "output_type": "stream",
     "text": [
      "USDT/BTC = 1 / (BTC/USDT)\n"
     ]
    },
    {
     "data": {
      "text/html": [
       "<div>\n",
       "<style scoped>\n",
       "    .dataframe tbody tr th:only-of-type {\n",
       "        vertical-align: middle;\n",
       "    }\n",
       "\n",
       "    .dataframe tbody tr th {\n",
       "        vertical-align: top;\n",
       "    }\n",
       "\n",
       "    .dataframe thead th {\n",
       "        text-align: right;\n",
       "    }\n",
       "</style>\n",
       "<table border=\"1\" class=\"dataframe\">\n",
       "  <thead>\n",
       "    <tr style=\"text-align: right;\">\n",
       "      <th></th>\n",
       "      <th>O</th>\n",
       "      <th>H</th>\n",
       "      <th>L</th>\n",
       "      <th>C</th>\n",
       "      <th>V</th>\n",
       "      <th>M</th>\n",
       "    </tr>\n",
       "    <tr>\n",
       "      <th>date</th>\n",
       "      <th></th>\n",
       "      <th></th>\n",
       "      <th></th>\n",
       "      <th></th>\n",
       "      <th></th>\n",
       "      <th></th>\n",
       "    </tr>\n",
       "  </thead>\n",
       "  <tbody>\n",
       "    <tr>\n",
       "      <th>2019-08-01 18:00:00</th>\n",
       "      <td>0.000099</td>\n",
       "      <td>0.000099</td>\n",
       "      <td>0.000098</td>\n",
       "      <td>0.000098</td>\n",
       "      <td>2447.344225</td>\n",
       "      <td>0.000099</td>\n",
       "    </tr>\n",
       "    <tr>\n",
       "      <th>2019-08-01 19:00:00</th>\n",
       "      <td>0.000098</td>\n",
       "      <td>0.000098</td>\n",
       "      <td>0.000097</td>\n",
       "      <td>0.000097</td>\n",
       "      <td>3942.863940</td>\n",
       "      <td>0.000097</td>\n",
       "    </tr>\n",
       "    <tr>\n",
       "      <th>2019-08-01 20:00:00</th>\n",
       "      <td>0.000097</td>\n",
       "      <td>0.000097</td>\n",
       "      <td>0.000096</td>\n",
       "      <td>0.000096</td>\n",
       "      <td>5157.451435</td>\n",
       "      <td>0.000096</td>\n",
       "    </tr>\n",
       "    <tr>\n",
       "      <th>2019-08-01 21:00:00</th>\n",
       "      <td>0.000096</td>\n",
       "      <td>0.000097</td>\n",
       "      <td>0.000096</td>\n",
       "      <td>0.000096</td>\n",
       "      <td>1728.862482</td>\n",
       "      <td>0.000096</td>\n",
       "    </tr>\n",
       "    <tr>\n",
       "      <th>2019-08-01 22:00:00</th>\n",
       "      <td>0.000096</td>\n",
       "      <td>0.000097</td>\n",
       "      <td>0.000096</td>\n",
       "      <td>0.000096</td>\n",
       "      <td>1469.642075</td>\n",
       "      <td>0.000096</td>\n",
       "    </tr>\n",
       "  </tbody>\n",
       "</table>\n",
       "</div>"
      ],
      "text/plain": [
       "                            O         H         L         C            V  \\\n",
       "date                                                                       \n",
       "2019-08-01 18:00:00  0.000099  0.000099  0.000098  0.000098  2447.344225   \n",
       "2019-08-01 19:00:00  0.000098  0.000098  0.000097  0.000097  3942.863940   \n",
       "2019-08-01 20:00:00  0.000097  0.000097  0.000096  0.000096  5157.451435   \n",
       "2019-08-01 21:00:00  0.000096  0.000097  0.000096  0.000096  1728.862482   \n",
       "2019-08-01 22:00:00  0.000096  0.000097  0.000096  0.000096  1469.642075   \n",
       "\n",
       "                            M  \n",
       "date                           \n",
       "2019-08-01 18:00:00  0.000099  \n",
       "2019-08-01 19:00:00  0.000097  \n",
       "2019-08-01 20:00:00  0.000096  \n",
       "2019-08-01 21:00:00  0.000096  \n",
       "2019-08-01 22:00:00  0.000096  "
      ]
     },
     "execution_count": 245,
     "metadata": {},
     "output_type": "execute_result"
    }
   ],
   "source": [
    "binance.get_pair_ohlcv(('USDT', 'BTC'), interval).head()"
   ]
  },
  {
   "cell_type": "code",
   "execution_count": 252,
   "metadata": {},
   "outputs": [
    {
     "data": {
      "text/html": [
       "<div>\n",
       "<style scoped>\n",
       "    .dataframe tbody tr th:only-of-type {\n",
       "        vertical-align: middle;\n",
       "    }\n",
       "\n",
       "    .dataframe tbody tr th {\n",
       "        vertical-align: top;\n",
       "    }\n",
       "\n",
       "    .dataframe thead th {\n",
       "        text-align: right;\n",
       "    }\n",
       "</style>\n",
       "<table border=\"1\" class=\"dataframe\">\n",
       "  <thead>\n",
       "    <tr style=\"text-align: right;\">\n",
       "      <th></th>\n",
       "      <th>O</th>\n",
       "      <th>H</th>\n",
       "      <th>L</th>\n",
       "      <th>C</th>\n",
       "      <th>V</th>\n",
       "      <th>M</th>\n",
       "    </tr>\n",
       "    <tr>\n",
       "      <th>date</th>\n",
       "      <th></th>\n",
       "      <th></th>\n",
       "      <th></th>\n",
       "      <th></th>\n",
       "      <th></th>\n",
       "      <th></th>\n",
       "    </tr>\n",
       "  </thead>\n",
       "  <tbody>\n",
       "    <tr>\n",
       "      <th>2019-08-01 18:00:00</th>\n",
       "      <td>11.579</td>\n",
       "      <td>11.665</td>\n",
       "      <td>11.560</td>\n",
       "      <td>11.560</td>\n",
       "      <td>143109.497712</td>\n",
       "      <td>11.595000</td>\n",
       "    </tr>\n",
       "    <tr>\n",
       "      <th>2019-08-01 19:00:00</th>\n",
       "      <td>11.560</td>\n",
       "      <td>11.658</td>\n",
       "      <td>11.515</td>\n",
       "      <td>11.532</td>\n",
       "      <td>197546.461612</td>\n",
       "      <td>11.568333</td>\n",
       "    </tr>\n",
       "    <tr>\n",
       "      <th>2019-08-01 20:00:00</th>\n",
       "      <td>11.531</td>\n",
       "      <td>11.718</td>\n",
       "      <td>11.531</td>\n",
       "      <td>11.624</td>\n",
       "      <td>213590.746774</td>\n",
       "      <td>11.624333</td>\n",
       "    </tr>\n",
       "    <tr>\n",
       "      <th>2019-08-01 21:00:00</th>\n",
       "      <td>11.625</td>\n",
       "      <td>11.718</td>\n",
       "      <td>11.552</td>\n",
       "      <td>11.704</td>\n",
       "      <td>106282.616489</td>\n",
       "      <td>11.658000</td>\n",
       "    </tr>\n",
       "    <tr>\n",
       "      <th>2019-08-01 22:00:00</th>\n",
       "      <td>11.714</td>\n",
       "      <td>11.784</td>\n",
       "      <td>11.701</td>\n",
       "      <td>11.750</td>\n",
       "      <td>87879.620811</td>\n",
       "      <td>11.745000</td>\n",
       "    </tr>\n",
       "  </tbody>\n",
       "</table>\n",
       "</div>"
      ],
      "text/plain": [
       "                          O       H       L       C              V          M\n",
       "date                                                                         \n",
       "2019-08-01 18:00:00  11.579  11.665  11.560  11.560  143109.497712  11.595000\n",
       "2019-08-01 19:00:00  11.560  11.658  11.515  11.532  197546.461612  11.568333\n",
       "2019-08-01 20:00:00  11.531  11.718  11.531  11.624  213590.746774  11.624333\n",
       "2019-08-01 21:00:00  11.625  11.718  11.552  11.704  106282.616489  11.658000\n",
       "2019-08-01 22:00:00  11.714  11.784  11.701  11.750   87879.620811  11.745000"
      ]
     },
     "execution_count": 252,
     "metadata": {},
     "output_type": "execute_result"
    }
   ],
   "source": [
    "# Truth\n",
    "binance.get_pair_ohlcv(('NEO', 'USDT'), interval).head()"
   ]
  },
  {
   "cell_type": "code",
   "execution_count": 255,
   "metadata": {},
   "outputs": [
    {
     "name": "stdout",
     "output_type": "stream",
     "text": [
      "NEO/USDT = (NEO/BTC) * (BTC/USDT)\n"
     ]
    },
    {
     "data": {
      "text/html": [
       "<div>\n",
       "<style scoped>\n",
       "    .dataframe tbody tr th:only-of-type {\n",
       "        vertical-align: middle;\n",
       "    }\n",
       "\n",
       "    .dataframe tbody tr th {\n",
       "        vertical-align: top;\n",
       "    }\n",
       "\n",
       "    .dataframe thead th {\n",
       "        text-align: right;\n",
       "    }\n",
       "</style>\n",
       "<table border=\"1\" class=\"dataframe\">\n",
       "  <thead>\n",
       "    <tr style=\"text-align: right;\">\n",
       "      <th></th>\n",
       "      <th>O</th>\n",
       "      <th>H</th>\n",
       "      <th>L</th>\n",
       "      <th>C</th>\n",
       "      <th>V</th>\n",
       "      <th>M</th>\n",
       "    </tr>\n",
       "    <tr>\n",
       "      <th>date</th>\n",
       "      <th></th>\n",
       "      <th></th>\n",
       "      <th></th>\n",
       "      <th></th>\n",
       "      <th></th>\n",
       "      <th></th>\n",
       "    </tr>\n",
       "  </thead>\n",
       "  <tbody>\n",
       "    <tr>\n",
       "      <th>2019-08-01 18:00:00</th>\n",
       "      <td>11.588171</td>\n",
       "      <td>11.667333</td>\n",
       "      <td>11.515150</td>\n",
       "      <td>11.543359</td>\n",
       "      <td>103177.114038</td>\n",
       "      <td>11.565878</td>\n",
       "    </tr>\n",
       "    <tr>\n",
       "      <th>2019-08-01 19:00:00</th>\n",
       "      <td>11.543359</td>\n",
       "      <td>11.670949</td>\n",
       "      <td>11.516978</td>\n",
       "      <td>11.538345</td>\n",
       "      <td>256445.376973</td>\n",
       "      <td>11.568302</td>\n",
       "    </tr>\n",
       "    <tr>\n",
       "      <th>2019-08-01 20:00:00</th>\n",
       "      <td>11.538323</td>\n",
       "      <td>11.723810</td>\n",
       "      <td>11.557809</td>\n",
       "      <td>11.633440</td>\n",
       "      <td>208569.570066</td>\n",
       "      <td>11.633893</td>\n",
       "    </tr>\n",
       "    <tr>\n",
       "      <th>2019-08-01 21:00:00</th>\n",
       "      <td>11.623064</td>\n",
       "      <td>11.719755</td>\n",
       "      <td>11.595076</td>\n",
       "      <td>11.707852</td>\n",
       "      <td>102965.004804</td>\n",
       "      <td>11.667805</td>\n",
       "    </tr>\n",
       "    <tr>\n",
       "      <th>2019-08-01 22:00:00</th>\n",
       "      <td>11.707290</td>\n",
       "      <td>11.806161</td>\n",
       "      <td>11.671174</td>\n",
       "      <td>11.754739</td>\n",
       "      <td>71663.551896</td>\n",
       "      <td>11.747320</td>\n",
       "    </tr>\n",
       "  </tbody>\n",
       "</table>\n",
       "</div>"
      ],
      "text/plain": [
       "                             O          H          L          C  \\\n",
       "date                                                              \n",
       "2019-08-01 18:00:00  11.588171  11.667333  11.515150  11.543359   \n",
       "2019-08-01 19:00:00  11.543359  11.670949  11.516978  11.538345   \n",
       "2019-08-01 20:00:00  11.538323  11.723810  11.557809  11.633440   \n",
       "2019-08-01 21:00:00  11.623064  11.719755  11.595076  11.707852   \n",
       "2019-08-01 22:00:00  11.707290  11.806161  11.671174  11.754739   \n",
       "\n",
       "                                 V          M  \n",
       "date                                           \n",
       "2019-08-01 18:00:00  103177.114038  11.565878  \n",
       "2019-08-01 19:00:00  256445.376973  11.568302  \n",
       "2019-08-01 20:00:00  208569.570066  11.633893  \n",
       "2019-08-01 21:00:00  102965.004804  11.667805  \n",
       "2019-08-01 22:00:00   71663.551896  11.747320  "
      ]
     },
     "execution_count": 255,
     "metadata": {},
     "output_type": "execute_result"
    }
   ],
   "source": [
    "# Converted via BTC (changed code)\n",
    "binance.get_pair_ohlcv(('NEO', 'USDT'), interval).head()\n",
    "# Pretty accurate, huh?"
   ]
  },
  {
   "cell_type": "code",
   "execution_count": 251,
   "metadata": {},
   "outputs": [
    {
     "name": "stdout",
     "output_type": "stream",
     "text": [
      "GAS/LSK = (GAS/BTC) / (LSK/BTC)\n"
     ]
    },
    {
     "data": {
      "text/html": [
       "<div>\n",
       "<style scoped>\n",
       "    .dataframe tbody tr th:only-of-type {\n",
       "        vertical-align: middle;\n",
       "    }\n",
       "\n",
       "    .dataframe tbody tr th {\n",
       "        vertical-align: top;\n",
       "    }\n",
       "\n",
       "    .dataframe thead th {\n",
       "        text-align: right;\n",
       "    }\n",
       "</style>\n",
       "<table border=\"1\" class=\"dataframe\">\n",
       "  <thead>\n",
       "    <tr style=\"text-align: right;\">\n",
       "      <th></th>\n",
       "      <th>O</th>\n",
       "      <th>H</th>\n",
       "      <th>L</th>\n",
       "      <th>C</th>\n",
       "      <th>V</th>\n",
       "      <th>M</th>\n",
       "    </tr>\n",
       "    <tr>\n",
       "      <th>date</th>\n",
       "      <th></th>\n",
       "      <th></th>\n",
       "      <th></th>\n",
       "      <th></th>\n",
       "      <th></th>\n",
       "      <th></th>\n",
       "    </tr>\n",
       "  </thead>\n",
       "  <tbody>\n",
       "    <tr>\n",
       "      <th>2019-08-01 18:00:00</th>\n",
       "      <td>1.540146</td>\n",
       "      <td>1.564122</td>\n",
       "      <td>1.549296</td>\n",
       "      <td>1.563201</td>\n",
       "      <td>1402.255300</td>\n",
       "      <td>1.554238</td>\n",
       "    </tr>\n",
       "    <tr>\n",
       "      <th>2019-08-01 19:00:00</th>\n",
       "      <td>1.563201</td>\n",
       "      <td>1.571823</td>\n",
       "      <td>1.511657</td>\n",
       "      <td>1.534392</td>\n",
       "      <td>19668.908348</td>\n",
       "      <td>1.536726</td>\n",
       "    </tr>\n",
       "    <tr>\n",
       "      <th>2019-08-01 20:00:00</th>\n",
       "      <td>1.534392</td>\n",
       "      <td>1.556351</td>\n",
       "      <td>1.502683</td>\n",
       "      <td>1.530139</td>\n",
       "      <td>17704.522694</td>\n",
       "      <td>1.525684</td>\n",
       "    </tr>\n",
       "    <tr>\n",
       "      <th>2019-08-01 21:00:00</th>\n",
       "      <td>1.530139</td>\n",
       "      <td>1.595997</td>\n",
       "      <td>1.564393</td>\n",
       "      <td>1.580620</td>\n",
       "      <td>4402.305794</td>\n",
       "      <td>1.577561</td>\n",
       "    </tr>\n",
       "    <tr>\n",
       "      <th>2019-08-01 22:00:00</th>\n",
       "      <td>1.588562</td>\n",
       "      <td>1.601057</td>\n",
       "      <td>1.585205</td>\n",
       "      <td>1.598101</td>\n",
       "      <td>1218.006896</td>\n",
       "      <td>1.595773</td>\n",
       "    </tr>\n",
       "  </tbody>\n",
       "</table>\n",
       "</div>"
      ],
      "text/plain": [
       "                            O         H         L         C             V  \\\n",
       "date                                                                        \n",
       "2019-08-01 18:00:00  1.540146  1.564122  1.549296  1.563201   1402.255300   \n",
       "2019-08-01 19:00:00  1.563201  1.571823  1.511657  1.534392  19668.908348   \n",
       "2019-08-01 20:00:00  1.534392  1.556351  1.502683  1.530139  17704.522694   \n",
       "2019-08-01 21:00:00  1.530139  1.595997  1.564393  1.580620   4402.305794   \n",
       "2019-08-01 22:00:00  1.588562  1.601057  1.585205  1.598101   1218.006896   \n",
       "\n",
       "                            M  \n",
       "date                           \n",
       "2019-08-01 18:00:00  1.554238  \n",
       "2019-08-01 19:00:00  1.536726  \n",
       "2019-08-01 20:00:00  1.525684  \n",
       "2019-08-01 21:00:00  1.577561  \n",
       "2019-08-01 22:00:00  1.595773  "
      ]
     },
     "execution_count": 251,
     "metadata": {},
     "output_type": "execute_result"
    }
   ],
   "source": [
    "binance.get_pair_ohlcv(('GAS', 'LSK'), interval).head()"
   ]
  },
  {
   "cell_type": "code",
   "execution_count": 9,
   "metadata": {},
   "outputs": [
    {
     "data": {
      "application/vnd.jupyter.widget-view+json": {
       "model_id": "0de0b2a66d2c489ab3fc5f6511784f74",
       "version_major": 2,
       "version_minor": 0
      },
      "text/plain": [
       "HBox(children=(IntProgress(value=0, max=3), HTML(value='')))"
      ]
     },
     "metadata": {},
     "output_type": "display_data"
    },
    {
     "name": "stdout",
     "output_type": "stream",
     "text": [
      "\n"
     ]
    }
   ],
   "source": [
    "ohlcvs = binance.get_multiple_pair_ohlcv([('BTC', 'USDT'), ('ETH', 'USDT'), ('XRP', 'USDT')], interval)"
   ]
  },
  {
   "cell_type": "markdown",
   "metadata": {},
   "source": [
    "## Depth"
   ]
  },
  {
   "cell_type": "code",
   "execution_count": 10,
   "metadata": {},
   "outputs": [
    {
     "data": {
      "text/plain": [
       "10116.84    228062.714014\n",
       "10116.85    225502.748820\n",
       "10117.06    225490.608600\n",
       "10117.17    225462.655163\n",
       "10117.18    215345.485163\n",
       "                ...      \n",
       "10177.14   -434317.900275\n",
       "10177.65   -434419.676775\n",
       "10177.98   -436035.095227\n",
       "10178.00   -441453.862427\n",
       "10178.26   -441507.155796\n",
       "Length: 200, dtype: float64"
      ]
     },
     "execution_count": 10,
     "metadata": {},
     "output_type": "execute_result"
    }
   ],
   "source": [
    "binance.get_pair_depth(('BTC', 'USDT'))"
   ]
  },
  {
   "cell_type": "code",
   "execution_count": 226,
   "metadata": {},
   "outputs": [
    {
     "name": "stdout",
     "output_type": "stream",
     "text": [
      "USDT/BTC = 1 / (BTC/USDT)\n"
     ]
    },
    {
     "data": {
      "text/plain": [
       "0.997208    39.267768\n",
       "0.997211    39.266691\n",
       "0.997218    38.768086\n",
       "0.997233    38.765822\n",
       "0.997242    38.760601\n",
       "              ...    \n",
       "1.002762   -28.272205\n",
       "1.002792   -28.321359\n",
       "1.002832   -28.622209\n",
       "1.002844   -28.672276\n",
       "1.002861   -28.973134\n",
       "Length: 200, dtype: float64"
      ]
     },
     "execution_count": 226,
     "metadata": {},
     "output_type": "execute_result"
    }
   ],
   "source": [
    "binance.get_pair_depth(('USDT', 'BTC'))"
   ]
  },
  {
   "cell_type": "code",
   "execution_count": 223,
   "metadata": {},
   "outputs": [
    {
     "name": "stdout",
     "output_type": "stream",
     "text": [
      "GAS/USDT = (GAS/BTC) * (BTC/USDT)\n"
     ]
    },
    {
     "data": {
      "text/plain": [
       "0.010193     96345.797336\n",
       "0.020387     96284.637536\n",
       "0.030580     96162.297549\n",
       "0.040773     96120.382903\n",
       "0.050966     95998.063303\n",
       "                ...      \n",
       "2.609485   -151066.738952\n",
       "2.619678   -151098.148892\n",
       "2.629871   -151138.885600\n",
       "2.640065   -152519.797842\n",
       "2.650258   -153366.422760\n",
       "Length: 190, dtype: float64"
      ]
     },
     "execution_count": 223,
     "metadata": {},
     "output_type": "execute_result"
    }
   ],
   "source": [
    "binance.get_pair_depth(('GAS', 'USDT'))"
   ]
  },
  {
   "cell_type": "code",
   "execution_count": 224,
   "metadata": {},
   "outputs": [
    {
     "name": "stdout",
     "output_type": "stream",
     "text": [
      "GAS/LSK = (GAS/BTC) / (LSK/BTC)\n"
     ]
    },
    {
     "data": {
      "text/plain": [
       "0.008396     79583.378338\n",
       "0.016793     79533.000504\n",
       "0.025189     79432.228044\n",
       "0.033585     79397.702603\n",
       "0.041982     79296.946935\n",
       "                ...      \n",
       "2.149454   -124439.989757\n",
       "2.157851   -124465.862385\n",
       "2.166247   -124499.417548\n",
       "2.174643   -125636.886398\n",
       "2.183039   -126334.258354\n",
       "Length: 190, dtype: float64"
      ]
     },
     "execution_count": 224,
     "metadata": {},
     "output_type": "execute_result"
    }
   ],
   "source": [
    "binance.get_pair_depth(('GAS', 'LSK'))"
   ]
  },
  {
   "cell_type": "code",
   "execution_count": null,
   "metadata": {},
   "outputs": [],
   "source": []
  }
 ],
 "metadata": {
  "kernelspec": {
   "display_name": "Python 3",
   "language": "python",
   "name": "python3"
  },
  "language_info": {
   "codemirror_mode": {
    "name": "ipython",
    "version": 3
   },
   "file_extension": ".py",
   "mimetype": "text/x-python",
   "name": "python",
   "nbconvert_exporter": "python",
   "pygments_lexer": "ipython3",
   "version": "3.7.3"
  }
 },
 "nbformat": 4,
 "nbformat_minor": 4
}
