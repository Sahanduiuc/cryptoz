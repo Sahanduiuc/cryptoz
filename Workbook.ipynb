{
 "cells": [
  {
   "cell_type": "code",
   "execution_count": 1,
   "metadata": {},
   "outputs": [],
   "source": [
    "from importlib import reload\n",
    "import matplotlib.pyplot as plt\n",
    "import pandas as pd\n",
    "import numpy as np\n",
    "import re\n",
    "\n",
    "from binance.client import Client\n",
    "from binance import enums"
   ]
  },
  {
   "cell_type": "code",
   "execution_count": 2,
   "metadata": {},
   "outputs": [],
   "source": [
    "# Your API key and secret\n",
    "API_KEY = \"\"\n",
    "API_SECRET = \"\""
   ]
  },
  {
   "cell_type": "code",
   "execution_count": 3,
   "metadata": {},
   "outputs": [],
   "source": [
    "client = Client(API_KEY, API_SECRET)"
   ]
  },
  {
   "cell_type": "code",
   "execution_count": 9,
   "metadata": {},
   "outputs": [],
   "source": [
    "# List of pairs you want to track\n",
    "pairs = [\n",
    "    ('BTC', 'USDT'),\n",
    "    ('ETH', 'USDT'),\n",
    "    ('XRP', 'USDT'),\n",
    "    ('LTC', 'USDT'),\n",
    "    ('BNB', 'USDT')\n",
    "]\n",
    "# https://python-binance.readthedocs.io/en/latest/genindex.html\n",
    "# Kline/candlestick interval\n",
    "interval = enums.KLINE_INTERVAL_1HOUR\n",
    "# Time window for heatmap\n",
    "display_window = pd.Timedelta(days=3)"
   ]
  },
  {
   "cell_type": "code",
   "execution_count": 13,
   "metadata": {},
   "outputs": [],
   "source": [
    "from cryptoz.binance import BinanceHelper\n",
    "from cryptoz import binance, utils, plot, stats"
   ]
  },
  {
   "cell_type": "code",
   "execution_count": 6,
   "metadata": {},
   "outputs": [],
   "source": [
    "binance = BinanceHelper(client)"
   ]
  },
  {
   "cell_type": "markdown",
   "metadata": {},
   "source": [
    "## Data"
   ]
  },
  {
   "cell_type": "code",
   "execution_count": 10,
   "metadata": {},
   "outputs": [
    {
     "data": {
      "application/vnd.jupyter.widget-view+json": {
       "model_id": "b5c28399f4a042fb91a384d6d23f93e9",
       "version_major": 2,
       "version_minor": 0
      },
      "text/plain": [
       "HBox(children=(IntProgress(value=0, max=5), HTML(value='')))"
      ]
     },
     "metadata": {},
     "output_type": "display_data"
    }
   ],
   "source": [
    "ohlcvs = binance.get_multiple_pair_ohlcv(pairs, interval)"
   ]
  },
  {
   "cell_type": "code",
   "execution_count": 11,
   "metadata": {},
   "outputs": [
    {
     "data": {
      "text/plain": [
       "dict_keys([('BTC', 'USDT'), ('ETH', 'USDT'), ('XRP', 'USDT'), ('LTC', 'USDT'), ('BNB', 'USDT')])"
      ]
     },
     "execution_count": 11,
     "metadata": {},
     "output_type": "execute_result"
    }
   ],
   "source": [
    "ohlcvs.keys()"
   ]
  },
  {
   "cell_type": "markdown",
   "metadata": {},
   "source": [
    "## Basic statistics"
   ]
  },
  {
   "cell_type": "markdown",
   "metadata": {},
   "source": [
    "### Price development"
   ]
  },
  {
   "cell_type": "code",
   "execution_count": 15,
   "metadata": {},
   "outputs": [
    {
     "name": "stderr",
     "output_type": "stream",
     "text": [
      "/Users/olegpolakow/Documents/SourceTree/cryptoz/cryptoz/utils.py:79: FutureWarning: Currently, 'apply' passes the values as ndarrays to the applied function. In the future, this will change to passing it as Series objects. You need to specify 'raw=True' to keep the current behaviour, and you can pass 'raw=False' to silence this warning\n",
      "  return df.expanding(**kwargs).apply(func)\n"
     ]
    },
    {
     "name": "stdout",
     "output_type": "stream",
     "text": [
      "   count      mean       std  min       25%       50%       75%       max\n",
      "0  360.0  0.155297  0.109034  0.0  0.069991  0.117061  0.232556  0.422762\n"
     ]
    },
    {
     "name": "stderr",
     "output_type": "stream",
     "text": [
      "/Users/olegpolakow/Documents/SourceTree/cryptoz/cryptoz/plot.py:204: MatplotlibDeprecationWarning: \n",
      "The tick1On function was deprecated in Matplotlib 3.1 and will be removed in 3.3. Use Tick.tick1line.set_visible instead.\n",
      "  t.tick1On = False\n",
      "/Users/olegpolakow/Documents/SourceTree/cryptoz/cryptoz/plot.py:205: MatplotlibDeprecationWarning: \n",
      "The tick2On function was deprecated in Matplotlib 3.1 and will be removed in 3.3. Use Tick.tick2line.set_visible instead.\n",
      "  t.tick2On = False\n",
      "/Users/olegpolakow/Documents/SourceTree/cryptoz/cryptoz/plot.py:207: MatplotlibDeprecationWarning: \n",
      "The tick1On function was deprecated in Matplotlib 3.1 and will be removed in 3.3. Use Tick.tick1line.set_visible instead.\n",
      "  t.tick1On = False\n",
      "/Users/olegpolakow/Documents/SourceTree/cryptoz/cryptoz/plot.py:208: MatplotlibDeprecationWarning: \n",
      "The tick2On function was deprecated in Matplotlib 3.1 and will be removed in 3.3. Use Tick.tick2line.set_visible instead.\n",
      "  t.tick2On = False\n"
     ]
    },
    {
     "data": {
      "image/png": "[encoded data removed]",
      "text/plain": [
       "<Figure size 1008x162 with 3 Axes>"
      ]
     },
     "metadata": {},
     "output_type": "display_data"
    }
   ],
   "source": [
    "# Select column from each OHLCV\n",
    "df = utils.to_df(ohlcvs, 'M')\n",
    "\n",
    "# We want to somehow compare prices of all assets\n",
    "# Thus let's normalize the prices based on their performance in the past\n",
    "# 1 would mean that this time step is the new all time high (ATH)\n",
    "# 0 would mean that this time step is the all time average\n",
    "df = utils.expanding_normalize(df, 'minmax')\n",
    "\n",
    "# Cut it to the window we are interested in\n",
    "df = utils.cut_df(df, display_window)\n",
    "\n",
    "# Plot price evolution (i.e. price development heatmap)\n",
    "plot.evolution(df, plt.cm.Spectral, rank='last')"
   ]
  },
  {
   "cell_type": "code",
   "execution_count": null,
   "metadata": {},
   "outputs": [],
   "source": [
    "df = utils.to_df(ohlc, 'C')\n",
    "df = df.pct_change().dropna()\n",
    "df.iloc[-1].sort_values()"
   ]
  },
  {
   "cell_type": "code",
   "execution_count": null,
   "metadata": {},
   "outputs": [],
   "source": [
    "df = utils.cut_df(df, display_window)\n",
    "\n",
    "plot.evolution(df, plt.cm.Spectral, plot.midpoint_norm(0), rank='last')\n",
    "\n",
    "df.plot(figsize=(14, 8), cmap=plt.cm.tab20)\n",
    "plt.show()"
   ]
  },
  {
   "cell_type": "markdown",
   "metadata": {},
   "source": [
    "## volatility"
   ]
  },
  {
   "cell_type": "code",
   "execution_count": null,
   "metadata": {},
   "outputs": [],
   "source": [
    "df = utils.to_df(ohlc, 'C')\n",
    "df = df.std() / df.mean()\n",
    "df.sort_values()"
   ]
  },
  {
   "cell_type": "code",
   "execution_count": null,
   "metadata": {},
   "outputs": [],
   "source": [
    "window = 20\n",
    "\n",
    "df = utils.to_df(ohlc, 'C')\n",
    "df = df.rolling(window).std()\n",
    "df = df.pct_change().dropna()\n",
    "df = utils.cut_df(df, display_window)\n",
    "\n",
    "plot.evolution(df, plt.cm.Spectral, plot.midpoint_norm(0), rank='last')\n",
    "\n",
    "df.plot(figsize=(14, 8), cmap=plt.cm.tab20)\n",
    "plt.show()"
   ]
  },
  {
   "cell_type": "markdown",
   "metadata": {},
   "source": [
    "## volume"
   ]
  },
  {
   "cell_type": "code",
   "execution_count": null,
   "metadata": {},
   "outputs": [],
   "source": [
    "window = 20\n",
    "\n",
    "df = utils.to_df(ohlc, 'V')\n",
    "# volume relative to mean of previous volumes\n",
    "df = utils.rolling_normalize(df, 'mean', window)\n",
    "df = utils.cut_df(df, display_window)\n",
    "\n",
    "plot.evolution(df, plt.cm.Spectral, plot.midpoint_norm(0), rank='last')"
   ]
  },
  {
   "cell_type": "markdown",
   "metadata": {},
   "source": [
    "# drawdown"
   ]
  },
  {
   "cell_type": "markdown",
   "metadata": {},
   "source": [
    "## global"
   ]
  },
  {
   "cell_type": "code",
   "execution_count": null,
   "metadata": {},
   "outputs": [],
   "source": [
    "stats.dd.now(ohlc)"
   ]
  },
  {
   "cell_type": "markdown",
   "metadata": {},
   "source": [
    "## local"
   ]
  },
  {
   "cell_type": "code",
   "execution_count": null,
   "metadata": {},
   "outputs": [],
   "source": [
    "recent_ohlc = utils.cut(ohlc, display_window)\n",
    "df = stats.dd.from_ohlc(recent_ohlc)\n",
    "\n",
    "plot.evolution(df, plt.cm.gist_earth_r, rank='last')\n",
    "\n",
    "df.plot(figsize=(14, 8), cmap=plt.cm.tab20)\n",
    "plt.show()"
   ]
  },
  {
   "cell_type": "markdown",
   "metadata": {},
   "source": [
    "# correlation"
   ]
  },
  {
   "cell_type": "code",
   "execution_count": null,
   "metadata": {},
   "outputs": [],
   "source": [
    "window = 20\n",
    "base_pair = 'BTC/USDT'\n",
    "\n",
    "df = utils.to_df(ohlc, 'C').pct_change().dropna()\n",
    "df = stats.corr.rolling(df, window=window)\n",
    "regex = re.compile(r'(%s-.+)' % base_pair)\n",
    "df = df[list(filter(regex.search, df.columns))]\n",
    "df.columns = list(map(lambda x: re.sub(r'(/%s)' % base_pair.split('/')[1], '', x), df.columns))\n",
    "df.dropna(inplace=True)\n",
    "df = utils.cut_df(df, display_window)\n",
    "\n",
    "plot.evolution(df, plt.cm.gist_earth, rank='last')\n",
    "\n",
    "df.plot(figsize=(14, 8), cmap=plt.cm.tab20)\n",
    "plt.show()"
   ]
  },
  {
   "cell_type": "markdown",
   "metadata": {},
   "source": [
    "# anomaly detection"
   ]
  },
  {
   "cell_type": "markdown",
   "metadata": {},
   "source": [
    "## price"
   ]
  },
  {
   "cell_type": "code",
   "execution_count": null,
   "metadata": {},
   "outputs": [],
   "source": [
    "window = 20\n",
    "levels = [1, 2, 3, 4, 5]\n",
    "\n",
    "df = utils.to_df(ohlc, 'C')\n",
    "df = utils.rolling_normalize(df, 'std', window)\n",
    "df.dropna(inplace=True)\n",
    "df = utils.classify(df, levels, bipolar=True)\n",
    "df = utils.cut_df(df, display_window)\n",
    "\n",
    "plot.evolution(df, plt.cm.Spectral, plot.midpoint_norm(0), rank='last')"
   ]
  },
  {
   "cell_type": "markdown",
   "metadata": {},
   "source": [
    "## volume"
   ]
  },
  {
   "cell_type": "code",
   "execution_count": null,
   "metadata": {},
   "outputs": [],
   "source": [
    "window = 20\n",
    "levels = [1, 2, 3, 4, 5]\n",
    "\n",
    "df = utils.to_df(ohlc, 'V')\n",
    "df = utils.rolling_normalize(df, 'std', window)\n",
    "df.dropna(inplace=True)\n",
    "df = utils.classify(df, levels, bipolar=True)\n",
    "df = utils.cut_df(df, display_window)\n",
    "\n",
    "plot.evolution(df, plt.cm.Spectral, plot.midpoint_norm(0), rank='last')"
   ]
  },
  {
   "cell_type": "markdown",
   "metadata": {},
   "source": [
    "# oscillators"
   ]
  },
  {
   "cell_type": "markdown",
   "metadata": {},
   "source": [
    "## *RSI*"
   ]
  },
  {
   "cell_type": "code",
   "execution_count": null,
   "metadata": {},
   "outputs": [],
   "source": [
    "def RSI(df, window):\n",
    "    delta = df.diff().dropna()\n",
    "    up, down = delta * 0, delta * 0\n",
    "    pos_mask = delta > 0\n",
    "    neg_mask = delta < 0\n",
    "    up[pos_mask] = delta[pos_mask]\n",
    "    down[neg_mask] = -delta[neg_mask]\n",
    "    up.iloc[window - 1] = up.iloc[:window].mean()\n",
    "    up = up.iloc[window - 1:]\n",
    "    down.iloc[window - 1] = down.iloc[:window].mean()\n",
    "    down = down.iloc[window - 1:]\n",
    "    rs = up.ewm(com=window - 1, adjust=False).mean() / down.ewm(com=window - 1, adjust=False).mean()\n",
    "    rsi = 100 - 100 / (1 + rs)\n",
    "    return rsi.reindex(df.index)"
   ]
  },
  {
   "cell_type": "code",
   "execution_count": null,
   "metadata": {},
   "outputs": [],
   "source": [
    "window = 20\n",
    "oversold = 30\n",
    "overbought = 70\n",
    "\n",
    "df = utils.to_df(ohlc, 'C')\n",
    "df = RSI(df, window)\n",
    "df = utils.trunk(df, [oversold, overbought])\n",
    "df = utils.rescale(df, [-1, 1])\n",
    "df = utils.cut_df(df, display_window)\n",
    "\n",
    "plot.evolution(df, plt.cm.Spectral, plot.midpoint_norm(0), rank='last')"
   ]
  },
  {
   "cell_type": "markdown",
   "metadata": {},
   "source": [
    "## *CCI*"
   ]
  },
  {
   "cell_type": "code",
   "execution_count": null,
   "metadata": {},
   "outputs": [],
   "source": [
    "def cci(df, period):\n",
    "    # (Typical Price  -  20-period SMA of TP) / (.015 x Mean Deviation)\n",
    "    tp_sma = df.rolling(period).mean()\n",
    "    md = df.rolling(period).apply(lambda a: np.fabs(a - a.mean()).mean())\n",
    "    return (df - tp_sma) / (.015 * md)"
   ]
  },
  {
   "cell_type": "code",
   "execution_count": null,
   "metadata": {},
   "outputs": [],
   "source": [
    "window = 20\n",
    "oversold = -300\n",
    "overbought = 300\n",
    "\n",
    "df = utils.to_df(ohlc, 'C')\n",
    "df = cci(df, window)\n",
    "df = utils.trunk(df, [oversold, overbought])\n",
    "df = utils.rescale(df, [-1, 1])\n",
    "df = utils.cut_df(df, display_window)\n",
    "\n",
    "plot.evolution(df, plt.cm.Spectral, plot.midpoint_norm(0), rank='last')"
   ]
  },
  {
   "cell_type": "markdown",
   "metadata": {},
   "source": [
    "# signals"
   ]
  },
  {
   "cell_type": "markdown",
   "metadata": {},
   "source": [
    "## *EMA crossover*"
   ]
  },
  {
   "cell_type": "code",
   "execution_count": null,
   "metadata": {},
   "outputs": [],
   "source": [
    "def ema_crossover(df, ema_fast, ema_slow):\n",
    "    fast = df.ewm(span=ema_fast, adjust=False).mean()\n",
    "    slow = df.ewm(span=ema_slow, adjust=False).mean()\n",
    "    df = fast - slow\n",
    "    df[df > 0] = 1\n",
    "    df[df < 0] = -1\n",
    "    df = df.fillna(0)\n",
    "    df = df.diff().dropna()\n",
    "    pos_mask = df == 2\n",
    "    neg_mask = df == -2\n",
    "    df[pos_mask] = 1\n",
    "    df[neg_mask] = -1\n",
    "    df[~neg_mask & ~pos_mask] = 0\n",
    "    return df"
   ]
  },
  {
   "cell_type": "code",
   "execution_count": null,
   "metadata": {},
   "outputs": [],
   "source": [
    "fast_window = 7\n",
    "slow_window = 25\n",
    "\n",
    "df = utils.to_df(ohlc, 'M')\n",
    "df = ema_crossover(df, fast_window, slow_window)\n",
    "df = utils.cut_df(df, display_window)\n",
    "\n",
    "plot.evolution(df, plt.cm.Spectral, plot.midpoint_norm(0), rank='last')"
   ]
  },
  {
   "cell_type": "markdown",
   "metadata": {},
   "source": [
    "## *BollingerBand*"
   ]
  },
  {
   "cell_type": "markdown",
   "metadata": {},
   "source": [
    "### How wide is the BB?"
   ]
  },
  {
   "cell_type": "code",
   "execution_count": null,
   "metadata": {},
   "outputs": [],
   "source": [
    "def BB(df, window, k):\n",
    "    sma = df.rolling(window=window).mean()\n",
    "    std = df.rolling(window=window).std()\n",
    "    BOLU = sma + std * k\n",
    "    BOLD = sma - std * k\n",
    "    return BOLD, BOLU\n",
    "\n",
    "def corridor(BOLD, BOLU):\n",
    "    return BOLU - BOLD"
   ]
  },
  {
   "cell_type": "code",
   "execution_count": null,
   "metadata": {},
   "outputs": [],
   "source": [
    "window = 20\n",
    "k = 2\n",
    "\n",
    "df = utils.to_df(ohlc, 'C')\n",
    "df = corridor(*BB(df, window, k)).dropna()\n",
    "df = utils.rolling_normalize(df, 'mean', window).dropna()\n",
    "df1 = utils.cut_df(df, display_window)\n",
    "\n",
    "plot.evolution(df1, plt.cm.Spectral_r, plot.midpoint_norm(0), rank='last')"
   ]
  },
  {
   "cell_type": "markdown",
   "metadata": {},
   "source": [
    "### Does the price exceed the BB?"
   ]
  },
  {
   "cell_type": "code",
   "execution_count": null,
   "metadata": {},
   "outputs": [],
   "source": [
    "reload(utils)\n",
    "df = utils.to_df(ohlc, 'C')\n",
    "df = utils.range_rescale(df, BB(df, window, k), [-1, 1]).dropna()\n",
    "df2 = utils.cut_df(df, display_window)\n",
    "\n",
    "plot.evolution(df2, plt.cm.Spectral, plot.midpoint_norm(0), rank='last')"
   ]
  },
  {
   "cell_type": "code",
   "execution_count": null,
   "metadata": {},
   "outputs": [],
   "source": []
  }
 ],
 "metadata": {
  "anaconda-cloud": {},
  "kernelspec": {
   "display_name": "Python 3",
   "language": "python",
   "name": "python3"
  },
  "language_info": {
   "codemirror_mode": {
    "name": "ipython",
    "version": 3
   },
   "file_extension": ".py",
   "mimetype": "text/x-python",
   "name": "python",
   "nbconvert_exporter": "python",
   "pygments_lexer": "ipython3",
   "version": "3.7.3"
  },
  "toc": {
   "nav_menu": {},
   "number_sections": true,
   "sideBar": true,
   "skip_h1_title": false,
   "toc_cell": false,
   "toc_position": {},
   "toc_section_display": "block",
   "toc_window_display": false
  },
  "varInspector": {
   "cols": {
    "lenName": 16,
    "lenType": 16,
    "lenVar": 40
   },
   "kernels_config": {
    "python": {
     "delete_cmd_postfix": "",
     "delete_cmd_prefix": "del ",
     "library": "var_list.py",
     "varRefreshCmd": "print(var_dic_list())"
    },
    "r": {
     "delete_cmd_postfix": ") ",
     "delete_cmd_prefix": "rm(",
     "library": "var_list.r",
     "varRefreshCmd": "cat(var_dic_list()) "
    }
   },
   "position": {
    "height": "685px",
    "left": "1024px",
    "right": "21px",
    "top": "87px",
    "width": "395px"
   },
   "types_to_exclude": [
    "module",
    "function",
    "builtin_function_or_method",
    "instance",
    "_Feature"
   ],
   "window_display": false
  }
 },
 "nbformat": 4,
 "nbformat_minor": 4
}
